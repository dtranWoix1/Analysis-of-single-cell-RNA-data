{
 "cells": [
  {
   "cell_type": "markdown",
   "id": "eea7ecef",
   "metadata": {},
   "source": [
    "# Tabula muris-reading the data\n"
   ]
  },
  {
   "cell_type": "code",
   "execution_count": 33,
   "id": "f038d91a",
   "metadata": {},
   "outputs": [],
   "source": [
    "import pandas as pd\n",
    "import scanpy as sc\n",
    "import matplotlib.pyplot as plt"
   ]
  },
  {
   "cell_type": "code",
   "execution_count": 18,
   "id": "d972ec25",
   "metadata": {},
   "outputs": [],
   "source": [
    "count_dataframe = pd.read_csv('D:/UCI Research/CellxGene Tutorial/scRNA-python-workshop-master/scRNA-python-workshop-master/content/data/brain_counts.csv',\n",
    "                             index_col = 0)"
   ]
  },
  {
   "cell_type": "code",
   "execution_count": 19,
   "id": "2e1e5f21",
   "metadata": {},
   "outputs": [
    {
     "name": "stdout",
     "output_type": "stream",
     "text": [
      "                       0610005C13Rik  0610007C21Rik  0610007L01Rik  \\\n",
      "A1.B003290.3_38_F.1.1              0            125             16   \n",
      "A1.B003728.3_56_F.1.1              0              0              0   \n",
      "\n",
      "                       0610007N19Rik  0610007P08Rik  0610007P14Rik  \\\n",
      "A1.B003290.3_38_F.1.1              0              0              0   \n",
      "A1.B003728.3_56_F.1.1              0              0            324   \n",
      "\n",
      "                       0610007P22Rik  0610008F07Rik  0610009B14Rik  \\\n",
      "A1.B003290.3_38_F.1.1              0              0              0   \n",
      "A1.B003728.3_56_F.1.1              0              0              0   \n",
      "\n",
      "                       0610009B22Rik  ...  Zxdb  Zxdc  Zyg11a  Zyg11b  Zyx  \\\n",
      "A1.B003290.3_38_F.1.1              0  ...     0     0       0       0    0   \n",
      "A1.B003728.3_56_F.1.1              0  ...     0     0       0       0    0   \n",
      "\n",
      "                       Zzef1  Zzz3  a  l7Rn6  zsGreen_transgene  \n",
      "A1.B003290.3_38_F.1.1      0     0  0     54                  0  \n",
      "A1.B003728.3_56_F.1.1      0     0  0      0                  0  \n",
      "\n",
      "[2 rows x 23433 columns]\n"
     ]
    }
   ],
   "source": [
    "print(count_dataframe.head(2))\n",
    "# column is gene\n",
    "# row is unique cell identifiers that were assigned"
   ]
  },
  {
   "cell_type": "code",
   "execution_count": 20,
   "id": "25d1fe78",
   "metadata": {},
   "outputs": [],
   "source": [
    "metadata_dataframe = pd.read_csv('D:/UCI Research/CellxGene Tutorial/scRNA-python-workshop-master/scRNA-python-workshop-master/content/data/brain_metadata.csv',\n",
    "                             index_col = 0)"
   ]
  },
  {
   "cell_type": "code",
   "execution_count": 21,
   "id": "6ccef03d",
   "metadata": {},
   "outputs": [
    {
     "name": "stdout",
     "output_type": "stream",
     "text": [
      "                      cell_ontology_class subtissue mouse.sex mouse.id  \\\n",
      "cell                                                                     \n",
      "A1.B003290.3_38_F.1.1           astrocyte  Striatum         F   3_38_F   \n",
      "A1.B003728.3_56_F.1.1           astrocyte  Striatum         F   3_56_F   \n",
      "\n",
      "                      plate.barcode  \n",
      "cell                                 \n",
      "A1.B003290.3_38_F.1.1       B003290  \n",
      "A1.B003728.3_56_F.1.1       B003728  \n"
     ]
    }
   ],
   "source": [
    "print(metadata_dataframe.head(2))\n"
   ]
  },
  {
   "cell_type": "code",
   "execution_count": 22,
   "id": "f522acca",
   "metadata": {},
   "outputs": [
    {
     "name": "stdout",
     "output_type": "stream",
     "text": [
      "Help on function value_counts in module pandas.core.algorithms:\n",
      "\n",
      "value_counts(values, sort: 'bool' = True, ascending: 'bool' = False, normalize: 'bool' = False, bins=None, dropna: 'bool' = True) -> 'Series'\n",
      "    Compute a histogram of the counts of non-null values.\n",
      "    \n",
      "    Parameters\n",
      "    ----------\n",
      "    values : ndarray (1-d)\n",
      "    sort : bool, default True\n",
      "        Sort by values\n",
      "    ascending : bool, default False\n",
      "        Sort in ascending order\n",
      "    normalize: bool, default False\n",
      "        If True then compute a relative histogram\n",
      "    bins : integer, optional\n",
      "        Rather than count values, group them into half-open bins,\n",
      "        convenience for pd.cut, only works with numeric data\n",
      "    dropna : bool, default True\n",
      "        Don't include counts of NaN\n",
      "    \n",
      "    Returns\n",
      "    -------\n",
      "    Series\n",
      "\n"
     ]
    }
   ],
   "source": [
    "help(pd.value_counts)"
   ]
  },
  {
   "cell_type": "code",
   "execution_count": 23,
   "id": "c7f9e3ab",
   "metadata": {},
   "outputs": [
    {
     "name": "stdout",
     "output_type": "stream",
     "text": [
      "subtissue\n",
      "Cortex         1149\n",
      "Hippocampus     976\n",
      "Striatum        723\n",
      "Cerebellum      553\n",
      "Name: count, dtype: int64\n"
     ]
    }
   ],
   "source": [
    "#Exercise\n",
    "print(pd.value_counts(metadata_dataframe['subtissue']))\n"
   ]
  },
  {
   "cell_type": "code",
   "execution_count": 24,
   "id": "8efed27f",
   "metadata": {
    "collapsed": true
   },
   "outputs": [
    {
     "name": "stdout",
     "output_type": "stream",
     "text": [
      "cell_ontology_class\n",
      "oligodendrocyte                   1574\n",
      "endothelial cell                   715\n",
      "astrocyte                          432\n",
      "neuron                             281\n",
      "oligodendrocyte precursor cell     203\n",
      "brain pericyte                     156\n",
      "Bergmann glial cell                 40\n",
      "Name: count, dtype: int64\n",
      "subtissue\n",
      "Cortex         1149\n",
      "Hippocampus     976\n",
      "Striatum        723\n",
      "Cerebellum      553\n",
      "Name: count, dtype: int64\n",
      "mouse.sex\n",
      "M    2694\n",
      "F     707\n",
      "Name: count, dtype: int64\n",
      "mouse.id\n",
      "3_10_M    980\n",
      "3_9_M     871\n",
      "3_8_M     590\n",
      "3_38_F    355\n",
      "3_11_M    253\n",
      "3_39_F    241\n",
      "3_56_F    111\n",
      "Name: count, dtype: int64\n",
      "plate.barcode\n",
      "MAA000560    287\n",
      "MAA000926    263\n",
      "MAA000581    190\n",
      "MAA000944    184\n",
      "MAA000932    174\n",
      "MAA001894    147\n",
      "MAA000564    143\n",
      "MAA000942    136\n",
      "MAA000935    131\n",
      "MAA000941    125\n",
      "MAA000930    111\n",
      "MAA000923    108\n",
      "MAA000947    107\n",
      "B003290       98\n",
      "MAA000561     97\n",
      "MAA000615     95\n",
      "B003275       93\n",
      "MAA000641     67\n",
      "B003728       66\n",
      "MAA000940     63\n",
      "MAA001895     60\n",
      "MAA000563     57\n",
      "MAA000925     55\n",
      "B003277       52\n",
      "MAA000638     51\n",
      "MAA000902     40\n",
      "MAA000424     39\n",
      "MAA000553     39\n",
      "MAA000578     38\n",
      "MAA000928     36\n",
      "MAA000550     34\n",
      "MAA001845     33\n",
      "B001688       32\n",
      "B003274       27\n",
      "B000621       24\n",
      "MAA001854     23\n",
      "MAA001853     22\n",
      "B000404       21\n",
      "MAA000924     14\n",
      "MAA000538     10\n",
      "MAA001856      9\n",
      "Name: count, dtype: int64\n"
     ]
    }
   ],
   "source": [
    "for column in metadata_dataframe.columns.values:\n",
    "    print(pd.value_counts(metadata_dataframe[column]))"
   ]
  },
  {
   "cell_type": "code",
   "execution_count": 25,
   "id": "7e29f4bf",
   "metadata": {},
   "outputs": [
    {
     "name": "stdout",
     "output_type": "stream",
     "text": [
      "AnnData object with n_obs × n_vars = 3401 × 23433\n",
      "    obs: 'cell_ontology_class', 'subtissue', 'mouse.sex', 'mouse.id', 'plate.barcode'\n"
     ]
    }
   ],
   "source": [
    "adata = sc.AnnData(X = count_dataframe, obs = metadata_dataframe)\n",
    "print(adata)"
   ]
  },
  {
   "cell_type": "code",
   "execution_count": 26,
   "id": "4be55106",
   "metadata": {},
   "outputs": [
    {
     "name": "stdout",
     "output_type": "stream",
     "text": [
      "found this many spike ins:  92\n"
     ]
    }
   ],
   "source": [
    "is_spike_in = {}\n",
    "number_of_spike_ins = 0\n",
    "\n",
    "for gene_name in adata.var_names:\n",
    "    if 'ERCC' in gene_name:\n",
    "        is_spike_in[gene_name] = True # record that we found a spike-in\n",
    "        number_of_spike_ins += 1 # bump the counter\n",
    "    else:\n",
    "        is_spike_in[gene_name] = False # record that this was not a spike-in\n",
    "        \n",
    "adata.var['ERCC'] = pd.Series(is_spike_in) # because the index of adata.var and the keys of is_spike_in match, anndata will take care of matching them up\n",
    "print('found this many spike ins: ', number_of_spike_ins)"
   ]
  },
  {
   "cell_type": "code",
   "execution_count": 29,
   "id": "9e5bfc49",
   "metadata": {},
   "outputs": [],
   "source": [
    "import os\n",
    "if not os.path.exists('C:/UCI Research/CellxGene Tutorial/'):\n",
    "    os.makedirs('C:/UCI Research/CellxGene Tutorial/')"
   ]
  },
  {
   "cell_type": "code",
   "execution_count": 36,
   "id": "4874e19c",
   "metadata": {},
   "outputs": [],
   "source": [
    "adata.write('D:/UCI Research/CellxGene Tutorial/data/brain_raw.h5ad')"
   ]
  }
 ],
 "metadata": {
  "kernelspec": {
   "display_name": "Python 3 (ipykernel)",
   "language": "python",
   "name": "python3"
  },
  "language_info": {
   "codemirror_mode": {
    "name": "ipython",
    "version": 3
   },
   "file_extension": ".py",
   "mimetype": "text/x-python",
   "name": "python",
   "nbconvert_exporter": "python",
   "pygments_lexer": "ipython3",
   "version": "3.11.5"
  }
 },
 "nbformat": 4,
 "nbformat_minor": 5
}
